{
  "nbformat": 4,
  "nbformat_minor": 0,
  "metadata": {
    "colab": {
      "name": "Image Classification.ipynb",
      "provenance": [],
      "collapsed_sections": []
    },
    "kernelspec": {
      "name": "python3",
      "display_name": "Python 3"
    }
  },
  "cells": [
    {
      "cell_type": "code",
      "metadata": {
        "id": "3rIB1thux5jd",
        "colab_type": "code",
        "colab": {}
      },
      "source": [
        "import numpy as np\n",
        "import pandas as pd\n",
        "import tensorflow as tf\n",
        "import matplotlib.pyplot as plt\n",
        "\n",
        "from tensorflow.keras import datasets, layers, models, utils"
      ],
      "execution_count": 0,
      "outputs": []
    },
    {
      "cell_type": "code",
      "metadata": {
        "id": "1a3QBcI2yeg8",
        "colab_type": "code",
        "colab": {}
      },
      "source": [
        "# LOAD THE DATASET\n",
        "(train_images, train_labels), (test_images, test_labels) = datasets.cifar10.load_data()"
      ],
      "execution_count": 0,
      "outputs": []
    },
    {
      "cell_type": "code",
      "metadata": {
        "id": "mG5v8jkw0yc5",
        "colab_type": "code",
        "colab": {}
      },
      "source": [
        "# DEFINE THE LABELS OR CLASS NAMES\n",
        "class_names = ['airplane', 'automobile', 'bird', 'cat', 'deer', 'dog', 'frog', 'hourse', 'ship', 'truck']"
      ],
      "execution_count": 0,
      "outputs": []
    },
    {
      "cell_type": "code",
      "metadata": {
        "id": "iTxa0qq-1or4",
        "colab_type": "code",
        "outputId": "e8a65628-a798-4547-c705-85a21024b28d",
        "colab": {
          "base_uri": "https://localhost:8080/",
          "height": 282
        }
      },
      "source": [
        "# VISUALIZE SOME IMAGES\n",
        "IMG_INDEX = 12\n",
        "\n",
        "plt.figure()\n",
        "plt.imshow(train_images[IMG_INDEX], cmap=plt.cm.binary)\n",
        "plt.xlabel(class_names[train_labels[IMG_INDEX][0]])\n",
        "plt.colorbar()\n",
        "plt.show()"
      ],
      "execution_count": 0,
      "outputs": [
        {
          "output_type": "display_data",
          "data": {
            "image/png": "[encoded data removed]",
            "text/plain": [
              "<Figure size 432x288 with 2 Axes>"
            ]
          },
          "metadata": {
            "tags": [],
            "needs_background": "light"
          }
        }
      ]
    },
    {
      "cell_type": "code",
      "metadata": {
        "id": "McUAkxIg3K5Z",
        "colab_type": "code",
        "outputId": "dc972d82-ba21-468a-f405-f0d2a5612cd8",
        "colab": {
          "base_uri": "https://localhost:8080/",
          "height": 34
        }
      },
      "source": [
        "# NORMALIZE THE TRAINING IMAGES & TESTING IMAGES\n",
        "train_images = utils.normalize(train_images)\n",
        "test_images = utils.normalize(test_images)\n",
        "\n",
        "train_images.shape, test_images.shape"
      ],
      "execution_count": 0,
      "outputs": [
        {
          "output_type": "execute_result",
          "data": {
            "text/plain": [
              "((50000, 32, 32, 3), (10000, 32, 32, 3))"
            ]
          },
          "metadata": {
            "tags": []
          },
          "execution_count": 51
        }
      ]
    },
    {
      "cell_type": "code",
      "metadata": {
        "id": "j6FUP9Ek7TZg",
        "colab_type": "code",
        "colab": {}
      },
      "source": [
        "# BUILD THE CNN MODEL\n",
        "\n",
        "# Initialize The CNN\n",
        "model = models.Sequential()\n",
        "\n",
        "# Add The First Conv2D Layer\n",
        "model.add(layers.Conv2D(32, (3, 3), activation='relu', input_shape=train_images.shape[1:]))\n",
        "\n",
        "#Add The First Max Pooling2D Layer\n",
        "model.add(layers.MaxPool2D(pool_size=(2, 2)))\n",
        "\n",
        "# Add The Second Conv2D Layer\n",
        "model.add(layers.Conv2D(64, (3, 3), activation='relu'))\n",
        "\n",
        "#Add The Second Max Pooling2D Layer\n",
        "model.add(layers.MaxPool2D(pool_size=(2, 2)))"
      ],
      "execution_count": 0,
      "outputs": []
    },
    {
      "cell_type": "code",
      "metadata": {
        "id": "cgAJ4XoZBXC3",
        "colab_type": "code",
        "outputId": "ee0b780f-4565-4ecc-ad97-225652b5d559",
        "colab": {
          "base_uri": "https://localhost:8080/",
          "height": 289
        }
      },
      "source": [
        "#SUMMARY\n",
        "model.summary()"
      ],
      "execution_count": 0,
      "outputs": [
        {
          "output_type": "stream",
          "text": [
            "Model: \"sequential_1\"\n",
            "_________________________________________________________________\n",
            "Layer (type)                 Output Shape              Param #   \n",
            "=================================================================\n",
            "conv2d_1 (Conv2D)            (None, 30, 30, 32)        896       \n",
            "_________________________________________________________________\n",
            "max_pooling2d (MaxPooling2D) (None, 15, 15, 32)        0         \n",
            "_________________________________________________________________\n",
            "conv2d_2 (Conv2D)            (None, 13, 13, 64)        18496     \n",
            "_________________________________________________________________\n",
            "max_pooling2d_1 (MaxPooling2 (None, 6, 6, 64)          0         \n",
            "=================================================================\n",
            "Total params: 19,392\n",
            "Trainable params: 19,392\n",
            "Non-trainable params: 0\n",
            "_________________________________________________________________\n"
          ],
          "name": "stdout"
        }
      ]
    },
    {
      "cell_type": "code",
      "metadata": {
        "id": "60Gvy0SIA2o4",
        "colab_type": "code",
        "colab": {}
      },
      "source": [
        "# Add The Dense Layers\n",
        "model.add(layers.Flatten())\n",
        "model.add(layers.Dense(10, activation='relu'))"
      ],
      "execution_count": 0,
      "outputs": []
    },
    {
      "cell_type": "code",
      "metadata": {
        "id": "SsDcpHKMBc16",
        "colab_type": "code",
        "outputId": "6c486564-f917-4c71-909b-fdbe5946808b",
        "colab": {
          "base_uri": "https://localhost:8080/",
          "height": 357
        }
      },
      "source": [
        "#SUMMARY\n",
        "model.summary()"
      ],
      "execution_count": 0,
      "outputs": [
        {
          "output_type": "stream",
          "text": [
            "Model: \"sequential_1\"\n",
            "_________________________________________________________________\n",
            "Layer (type)                 Output Shape              Param #   \n",
            "=================================================================\n",
            "conv2d_1 (Conv2D)            (None, 30, 30, 32)        896       \n",
            "_________________________________________________________________\n",
            "max_pooling2d (MaxPooling2D) (None, 15, 15, 32)        0         \n",
            "_________________________________________________________________\n",
            "conv2d_2 (Conv2D)            (None, 13, 13, 64)        18496     \n",
            "_________________________________________________________________\n",
            "max_pooling2d_1 (MaxPooling2 (None, 6, 6, 64)          0         \n",
            "_________________________________________________________________\n",
            "flatten (Flatten)            (None, 2304)              0         \n",
            "_________________________________________________________________\n",
            "dense (Dense)                (None, 10)                23050     \n",
            "=================================================================\n",
            "Total params: 42,442\n",
            "Trainable params: 42,442\n",
            "Non-trainable params: 0\n",
            "_________________________________________________________________\n"
          ],
          "name": "stdout"
        }
      ]
    },
    {
      "cell_type": "code",
      "metadata": {
        "id": "Vo_OsekuBwIr",
        "colab_type": "code",
        "colab": {}
      },
      "source": [
        "# COMPILE THE MODEL\n",
        "model.compile(optimizer='adam', loss='sparse_categorical_crossentropy', metrics=['accuracy'])"
      ],
      "execution_count": 0,
      "outputs": []
    },
    {
      "cell_type": "code",
      "metadata": {
        "id": "ETuYf8DtEjbI",
        "colab_type": "code",
        "outputId": "3c987f68-f07c-43f9-ae78-fa48230bfdce",
        "colab": {
          "base_uri": "https://localhost:8080/",
          "height": 357
        }
      },
      "source": [
        "# TRAIN THE NETWORK\n",
        "history = model.fit(train_images, train_labels, batch_size=32, epochs=10, validation_split=0.1, validation_data=(test_images, test_labels))"
      ],
      "execution_count": 0,
      "outputs": [
        {
          "output_type": "stream",
          "text": [
            "Epoch 1/10\n",
            "1407/1407 [==============================] - 50s 36ms/step - loss: 2.3026 - accuracy: 0.1002 - val_loss: 2.3026 - val_accuracy: 0.0986\n",
            "Epoch 2/10\n",
            "1407/1407 [==============================] - 51s 36ms/step - loss: 2.3026 - accuracy: 0.1002 - val_loss: 2.3026 - val_accuracy: 0.0986\n",
            "Epoch 3/10\n",
            "1407/1407 [==============================] - 50s 36ms/step - loss: 2.3026 - accuracy: 0.1002 - val_loss: 2.3026 - val_accuracy: 0.0986\n",
            "Epoch 4/10\n",
            "1407/1407 [==============================] - 51s 36ms/step - loss: 2.3026 - accuracy: 0.1002 - val_loss: 2.3026 - val_accuracy: 0.0986\n",
            "Epoch 5/10\n",
            "1407/1407 [==============================] - 51s 36ms/step - loss: 2.3026 - accuracy: 0.1002 - val_loss: 2.3026 - val_accuracy: 0.0986\n",
            "Epoch 6/10\n",
            "1407/1407 [==============================] - 51s 36ms/step - loss: 2.3026 - accuracy: 0.1002 - val_loss: 2.3026 - val_accuracy: 0.0986\n",
            "Epoch 7/10\n",
            "1407/1407 [==============================] - 51s 36ms/step - loss: 2.3026 - accuracy: 0.1002 - val_loss: 2.3026 - val_accuracy: 0.0986\n",
            "Epoch 8/10\n",
            "1407/1407 [==============================] - 51s 36ms/step - loss: 2.3026 - accuracy: 0.1002 - val_loss: 2.3026 - val_accuracy: 0.0986\n",
            "Epoch 9/10\n",
            "1407/1407 [==============================] - 51s 36ms/step - loss: 2.3026 - accuracy: 0.1002 - val_loss: 2.3026 - val_accuracy: 0.0986\n",
            "Epoch 10/10\n",
            "1407/1407 [==============================] - 51s 36ms/step - loss: 2.3026 - accuracy: 0.1002 - val_loss: 2.3026 - val_accuracy: 0.0986\n"
          ],
          "name": "stdout"
        }
      ]
    },
    {
      "cell_type": "code",
      "metadata": {
        "id": "seEkSzbsLroH",
        "colab_type": "code",
        "outputId": "af4bdb7d-f71f-4ff2-ba9d-1a72147a8663",
        "colab": {
          "base_uri": "https://localhost:8080/",
          "height": 51
        }
      },
      "source": [
        "# EVALUATE THE MODEL\n",
        "test_loss, test_acc = model.evaluate(test_images, test_labels)\n",
        "test_loss, test_acc"
      ],
      "execution_count": 0,
      "outputs": [
        {
          "output_type": "stream",
          "text": [
            "313/313 [==============================] - 3s 11ms/step - loss: 2.3026 - accuracy: 0.1000\n"
          ],
          "name": "stdout"
        },
        {
          "output_type": "execute_result",
          "data": {
            "text/plain": [
              "(2.30259108543396, 0.10000000149011612)"
            ]
          },
          "metadata": {
            "tags": []
          },
          "execution_count": 61
        }
      ]
    }
  ]
}